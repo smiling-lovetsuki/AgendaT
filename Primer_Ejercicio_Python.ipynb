{
  "nbformat": 4,
  "nbformat_minor": 0,
  "metadata": {
    "colab": {
      "provenance": [],
      "authorship_tag": "ABX9TyOfYWnWUoBwZMPrQGj6n0r7",
      "include_colab_link": true
    },
    "kernelspec": {
      "name": "python3",
      "display_name": "Python 3"
    },
    "language_info": {
      "name": "python"
    }
  },
  "cells": [
    {
      "cell_type": "markdown",
      "metadata": {
        "id": "view-in-github",
        "colab_type": "text"
      },
      "source": [
        "<a href=\"https://colab.research.google.com/github/smiling-lovetsuki/AgendaT/blob/main/Primer_Ejercicio_Python.ipynb\" target=\"_parent\"><img src=\"https://colab.research.google.com/assets/colab-badge.svg\" alt=\"Open In Colab\"/></a>"
      ]
    },
    {
      "cell_type": "code",
      "execution_count": null,
      "metadata": {
        "colab": {
          "base_uri": "https://localhost:8080/"
        },
        "id": "dCi-wZmNee_C",
        "outputId": "086b1332-2536-4c08-cb17-044aad839586"
      },
      "outputs": [
        {
          "output_type": "stream",
          "name": "stdout",
          "text": [
            "hola mundo\n",
            "Mi nombre es Miley\n",
            "Mi edad 13 años\n",
            "Vivo en San Pedro Sula\n"
          ]
        }
      ],
      "source": [
        "print (\"hola mundo\")\n",
        "#Este es un comentario\n",
        "#Los comentarios no se muestran al ejecutarse las lineas de codigo\n",
        "print (\"Mi nombre es Miley\")\n",
        "print (\"Mi edad 13 años\")\n",
        "print (\"Vivo en San Pedro Sula\")"
      ]
    },
    {
      "cell_type": "code",
      "source": [],
      "metadata": {
        "id": "MzJweaiLfJpt"
      },
      "execution_count": null,
      "outputs": []
    },
    {
      "cell_type": "code",
      "source": [
        "a = b = c = \"Medusa\"\n",
        "\n",
        "print(a)\n",
        "print(b)\n",
        "print(c)\n"
      ],
      "metadata": {
        "colab": {
          "base_uri": "https://localhost:8080/"
        },
        "id": "SBBIV5FtOvXT",
        "outputId": "078b0555-709b-425d-a629-7712bf9ac9dd"
      },
      "execution_count": null,
      "outputs": [
        {
          "output_type": "stream",
          "name": "stdout",
          "text": [
            "Medusa\n",
            "Medusa\n",
            "Medusa\n"
          ]
        }
      ]
    },
    {
      "cell_type": "code",
      "source": [
        "animales = [\"Ballena\", \"Mantaralla\", \"Cachalote\"]\n",
        "e, f, g = animales\n",
        "\n",
        "print(e)\n",
        "print(f)\n",
        "print(g)\n"
      ],
      "metadata": {
        "colab": {
          "base_uri": "https://localhost:8080/"
        },
        "id": "KTGomGlJO8_N",
        "outputId": "c1ff4fa8-fa09-4340-9b66-71a6f8e5a36a"
      },
      "execution_count": null,
      "outputs": [
        {
          "output_type": "stream",
          "name": "stdout",
          "text": [
            "Ballena\n",
            "Mantaralla\n",
            "Cachalote\n"
          ]
        }
      ]
    },
    {
      "cell_type": "code",
      "source": [
        "x = \"Mi nombre es Miley Giselle \"\n",
        "y = \",mi apellido es Zaldivar Perdomo\"\n",
        "z = \" y vivo en San Pedro Sula\"\n",
        "\n",
        "print(x + y + z)"
      ],
      "metadata": {
        "colab": {
          "base_uri": "https://localhost:8080/"
        },
        "id": "6c4I6WIem1na",
        "outputId": "12c9e8b1-32e5-47f2-fc47-8b68762e672a"
      },
      "execution_count": null,
      "outputs": [
        {
          "output_type": "stream",
          "name": "stdout",
          "text": [
            "Mi nombre es Miley Giselle ,mi apellido es Zaldivar Perdomo y vivo en San Pedro Sula\n"
          ]
        }
      ]
    },
    {
      "cell_type": "code",
      "source": [
        "p = 1\n",
        "d = 35656222554887711\n",
        "f = -3255522\n",
        "\n",
        "print(type(p))\n",
        "print(type(d))\n",
        "print(type(f))"
      ],
      "metadata": {
        "colab": {
          "base_uri": "https://localhost:8080/"
        },
        "id": "NxuI1i9_ZgrS",
        "outputId": "174d3756-df01-41c5-b17b-797a95242c73"
      },
      "execution_count": null,
      "outputs": [
        {
          "output_type": "stream",
          "name": "stdout",
          "text": [
            "<class 'int'>\n",
            "<class 'int'>\n",
            "<class 'int'>\n"
          ]
        }
      ]
    },
    {
      "cell_type": "code",
      "source": [
        "k = 1.10\n",
        "f = 1.0\n",
        "d = -35.59\n",
        "\n",
        "print(type(k))\n",
        "print(type(f))\n",
        "print(type(d))\n"
      ],
      "metadata": {
        "colab": {
          "base_uri": "https://localhost:8080/"
        },
        "id": "_44Ax48DZm8R",
        "outputId": "abd9059c-3ce9-4b6c-aedc-6c3b59937c09"
      },
      "execution_count": null,
      "outputs": [
        {
          "output_type": "stream",
          "name": "stdout",
          "text": [
            "<class 'float'>\n",
            "<class 'float'>\n",
            "<class 'float'>\n"
          ]
        }
      ]
    },
    {
      "cell_type": "code",
      "source": [
        "h = 35e3\n",
        "d = 12E4\n",
        "z = -87.7e100\n",
        "\n",
        "print(type(h))\n",
        "print(type(d))\n",
        "print(type(z))"
      ],
      "metadata": {
        "colab": {
          "base_uri": "https://localhost:8080/"
        },
        "id": "v7L2V9ZXZzeA",
        "outputId": "25cb476d-a207-43b3-8abf-0ac61ede1062"
      },
      "execution_count": null,
      "outputs": [
        {
          "output_type": "stream",
          "name": "stdout",
          "text": [
            "<class 'float'>\n",
            "<class 'float'>\n",
            "<class 'float'>\n"
          ]
        }
      ]
    },
    {
      "cell_type": "code",
      "source": [
        "j = 3+5j\n",
        "d = 5j\n",
        "a = -5j\n",
        "\n",
        "print(type(j))\n",
        "print(type(d))\n",
        "print(type(a))\n"
      ],
      "metadata": {
        "colab": {
          "base_uri": "https://localhost:8080/"
        },
        "id": "MS-bEEmMZ9T0",
        "outputId": "8e38297b-6b8b-4940-e408-bc2a23675645"
      },
      "execution_count": null,
      "outputs": [
        {
          "output_type": "stream",
          "name": "stdout",
          "text": [
            "<class 'complex'>\n",
            "<class 'complex'>\n",
            "<class 'complex'>\n"
          ]
        }
      ]
    },
    {
      "cell_type": "code",
      "source": [
        "d = 1    # int\n",
        "a = 2.8  # float\n",
        "j = 1j   # complex\n",
        "\n",
        "#convert from int to float:\n",
        "ad = float(a)\n",
        "\n",
        "#convert from float to int:\n",
        "a = int(d)\n",
        "\n",
        "#convert from int to complex:\n",
        "d = complex(j)\n",
        "\n",
        "print(d)\n",
        "print(a)\n",
        "print(j)\n",
        "\n",
        "print(type(d))\n",
        "print(type(a))\n",
        "print(type(j))"
      ],
      "metadata": {
        "colab": {
          "base_uri": "https://localhost:8080/"
        },
        "id": "cYk61o20aIxf",
        "outputId": "1f112590-e6ea-4a8d-ec7e-50228639927b"
      },
      "execution_count": null,
      "outputs": [
        {
          "output_type": "stream",
          "name": "stdout",
          "text": [
            "1j\n",
            "1\n",
            "1j\n",
            "<class 'complex'>\n",
            "<class 'int'>\n",
            "<class 'complex'>\n"
          ]
        }
      ]
    },
    {
      "cell_type": "code",
      "source": [
        "f = \"Calendario\"\n",
        "s = \"Tareas Pendientes\"\n",
        "b = \"Metas y Objetivos\"\n",
        "d = \"Notas\"\n",
        "e = \"Contactos\"\n",
        "print(f + s + b + d + e)"
      ],
      "metadata": {
        "id": "L8zFnraYfMgn",
        "colab": {
          "base_uri": "https://localhost:8080/"
        },
        "outputId": "ba358e78-f3b9-4d85-a399-c07f75a66fa4"
      },
      "execution_count": null,
      "outputs": [
        {
          "output_type": "stream",
          "name": "stdout",
          "text": [
            "CalendarioTareas PendientesMetas y ObjetivosNotasContactos\n"
          ]
        }
      ]
    },
    {
      "cell_type": "code",
      "source": [
        "AgendaTech = [\"Calendario\", \"Tares Pendientes\", \"Metas y Objetivos\", \"Notas\", \"Contactos\"]\n",
        "e, f, g, j, k = AgendaTech\n",
        "\n",
        "print(e)\n",
        "print(f)\n",
        "print(g)\n",
        "print(j)\n",
        "print(k)"
      ],
      "metadata": {
        "colab": {
          "base_uri": "https://localhost:8080/"
        },
        "id": "Rqo1zS_0uT9Y",
        "outputId": "ea323e25-bc68-47c8-a91d-f21922093c22"
      },
      "execution_count": null,
      "outputs": [
        {
          "output_type": "stream",
          "name": "stdout",
          "text": [
            "Calendario\n",
            "Tares Pendientes\n",
            "Metas y Objetivos\n",
            "Notas\n",
            "Contactos\n"
          ]
        }
      ]
    },
    {
      "cell_type": "code",
      "source": [
        "import json\n",
        "from datetime import datetime\n",
        "\n",
        "# Guardar datos en JSON\n",
        "def guardar_datos(data, filename):\n",
        "    with open(filename, 'w') as file:\n",
        "        json.dump(data, file)\n",
        "\n",
        "# Cargar datos de JSON\n",
        "def cargar_datos(filename):\n",
        "    try:\n",
        "        with open(filename, 'r') as file:\n",
        "            return json.load(file)\n",
        "    except FileNotFoundError:\n",
        "        return {}\n",
        "\n",
        "# Agregar contacto\n",
        "def agregar_contacto(nombre, telefono):\n",
        "    contactos = cargar_datos('contactos.json')\n",
        "    contactos[nombre] = telefono\n",
        "    guardar_datos(contactos, 'contactos.json')\n",
        "    print(f'Contacto {nombre} guardado.')\n",
        "\n",
        "# Agregar recordatorio\n",
        "def agregar_recordatorio(mensaje, fecha):\n",
        "    recordatorios = cargar_datos('recordatorios.json')\n",
        "    recordatorios[mensaje] = fecha\n",
        "    guardar_datos(recordatorios, 'recordatorios.json')\n",
        "    print(f'Recordatorio \"{mensaje}\" para el {fecha} guardado.')\n",
        "\n",
        "# Mostrar recordatorios del día\n",
        "def mostrar_recordatorios():\n",
        "    hoy = datetime.today().strftime('%d/%m/%Y')\n",
        "    recordatorios = cargar_datos('recordatorios.json')\n",
        "    for mensaje, fecha in recordatorios.items():\n",
        "        if fecha == hoy:\n",
        "            print(f'¡Hoy: {mensaje}!')\n"
      ],
      "metadata": {
        "id": "idqgbPWI2VL3"
      },
      "execution_count": null,
      "outputs": []
    },
    {
      "cell_type": "code",
      "source": [],
      "metadata": {
        "id": "zkchnVfsmI4C"
      },
      "execution_count": null,
      "outputs": []
    },
    {
      "cell_type": "code",
      "source": [
        "from google.colab import drive\n",
        "drive.mount('/content/drive')"
      ],
      "metadata": {
        "id": "CEN2ZrkdmknE"
      },
      "execution_count": null,
      "outputs": []
    }
  ]
}