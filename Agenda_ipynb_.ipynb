{
  "nbformat": 4,
  "nbformat_minor": 0,
  "metadata": {
    "colab": {
      "provenance": [],
      "include_colab_link": true
    },
    "kernelspec": {
      "name": "python3",
      "display_name": "Python 3"
    },
    "language_info": {
      "name": "python"
    }
  },
  "cells": [
    {
      "cell_type": "markdown",
      "metadata": {
        "id": "view-in-github",
        "colab_type": "text"
      },
      "source": [
        "<a href=\"https://colab.research.google.com/github/smiling-lovetsuki/AgendaT/blob/main/Agenda_ipynb_.ipynb\" target=\"_parent\"><img src=\"https://colab.research.google.com/assets/colab-badge.svg\" alt=\"Open In Colab\"/></a>"
      ]
    },
    {
      "cell_type": "code",
      "execution_count": null,
      "metadata": {
        "colab": {
          "base_uri": "https://localhost:8080/"
        },
        "id": "qTjR0NPMrjzB",
        "outputId": "ff58ca7d-d1fa-4712-cdba-da7332fb5979"
      },
      "outputs": [
        {
          "output_type": "stream",
          "name": "stdout",
          "text": [
            "Fecha: 2024-09-30, Hora: 10:00 AM, Descripción: Reunión de proyecto, Prioridad: Alta\n",
            "Fecha: 2024-10-01, Hora: 2:00 PM, Descripción: Estudio personal, Prioridad: Media\n"
          ]
        }
      ],
      "source": [
        "# Inicializa una lista vacía donde se almacenarán las tareas\n",
        "agenda = []\n",
        "\n",
        "# Función para agregar una tarea a la agenda\n",
        "def agregar_tarea(fecha, hora, descripcion, prioridad):\n",
        "    tarea = {\n",
        "        \"fecha\": fecha,\n",
        "        \"hora\": hora,\n",
        "        \"descripcion\": descripcion,\n",
        "        \"prioridad\": prioridad\n",
        "    }\n",
        "    agenda.append(tarea)\n",
        "\n",
        "# Función para mostrar todas las tareas en la agenda\n",
        "def mostrar_agenda():\n",
        "    for tarea in agenda:\n",
        "        print(f\"Fecha: {tarea['fecha']}, Hora: {tarea['hora']}, Descripción: {tarea['descripcion']}, Prioridad: {tarea['prioridad']}\")\n",
        "\n",
        "# Agregar algunas tareas de ejemplo\n",
        "agregar_tarea(\"2024-09-30\", \"10:00 AM\", \"Reunión de proyecto\", \"Alta\")\n",
        "agregar_tarea(\"2024-10-01\", \"2:00 PM\", \"Estudio personal\", \"Media\")\n",
        "\n",
        "# Mostrar las tareas agregadas\n",
        "mostrar_agenda()"
      ]
    },
    {
      "cell_type": "code",
      "source": [
        "# Inicializa una lista vacía donde se almacenarán las tareas\n",
        "agenda = []\n",
        "\n",
        "# Función para agregar una tarea a la agenda\n",
        "def agregar_tarea(fecha, hora, descripcion, prioridad):\n",
        "    tarea = {\n",
        "        \"fecha\": fecha,\n",
        "        \"hora\": hora,\n",
        "        \"descripcion\": descripcion,\n",
        "        \"prioridad\": prioridad\n",
        "    }\n",
        "    agenda.append(tarea)\n",
        "\n",
        "# Función para mostrar todas las tareas en la agenda\n",
        "def mostrar_agenda():\n",
        "    if not agenda:\n",
        "        print(\"La agenda está vacía.\")\n",
        "    else:\n",
        "        for tarea in agenda:\n",
        "            print(f\"Fecha: {tarea['fecha']}, Hora: {tarea['hora']}, Descripción: {tarea['descripcion']}, Prioridad: {tarea['prioridad']}\")"
      ],
      "metadata": {
        "id": "rbpAKsQ8tHCY"
      },
      "execution_count": null,
      "outputs": []
    }
  ]
}